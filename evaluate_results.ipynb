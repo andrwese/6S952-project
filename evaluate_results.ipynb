{
 "cells": [
  {
   "cell_type": "markdown",
   "metadata": {},
   "source": [
    "# Code for evaluating results after running inpainting models\n",
    "The inpainting models tries to recreate the background  behind an object that we want to remove. To evaluate performance, we are using perceptual hasinh, structural similarity and peak signal noise ratio to compute how \"realistic\" the output image is. If the model is able to recreate the background in a very realistic way, it should score well in these metrics.\n",
    "Note that there are two ways of evaluating performance here: \n",
    "* For unlabeled data we are using perceptual hashing and hamming distance to compute how realistic the output image is compared to the input image\n",
    "* For labeled data we are using structural similarity and peak SNR to compare the output image to the \"true output\"."
   ]
  },
  {
   "cell_type": "code",
   "execution_count": 5,
   "metadata": {},
   "outputs": [],
   "source": [
    "import cv2\n",
    "import numpy as np\n",
    "# from skimage.metrics import structural_similarity as ssim\n",
    "# from skimage.metrics import peak_signal_noise_ratio as psnr\n",
    "# import imagehash\n",
    "from PIL import Image\n",
    "from matplotlib import pyplot as plt\n"
   ]
  },
  {
   "cell_type": "markdown",
   "metadata": {},
   "source": [
    "## Evaluating performance on unlabeled data\n",
    "Unlabeled data means that the only images we have available is the input image (where some object is present), and the output image (where the inpainting model has tried to recreate the background behind the object). We have no knowledge of what the \"true background\" behind the object is. Therefore, we are evaluating performance through perceptual hashing. Perceptual hashing provides a fingerprint of the image content, and a smaller hamming distance between hashes of the input and output image indicates higher realism in the generated output image."
   ]
  },
  {
   "cell_type": "code",
   "execution_count": null,
   "metadata": {},
   "outputs": [],
   "source": [
    "# Performance on unlabeled data is evaluated by comparing similarity between perceptual\n",
    "# hashes of the input and output images. Perceptual hashes provide a fingerprint of the image \n",
    "# content, and a smaller Hamming distance between the hashes of the input and output images indicates higher realism.\n",
    "def perceptual_hash(image):\n",
    "    return imagehash.average_hash(Image.fromarray(cv2.cvtColor(image, cv2.COLOR_BGR2RGB)))\n",
    "\n",
    "def evaluate_unlabeled(input_image_path, output_image_path):\n",
    "    # Load images\n",
    "    input_image = cv2.imread(input_image_path)\n",
    "    output_image = cv2.imread(output_image_path)\n",
    "\n",
    "    # Calculate perceptual hashes\n",
    "    input_hash = perceptual_hash(input_image)\n",
    "    output_hash = perceptual_hash(output_image)\n",
    "    \n",
    "    # Calculate Hamming distance\n",
    "    hamming_distance = input_hash - output_hash  # Lower values indicate higher similarity\n",
    "    \n",
    "    return hamming_distance\n",
    "\n"
   ]
  },
  {
   "cell_type": "markdown",
   "metadata": {},
   "source": [
    "## Evaluating performance on labeled data\n",
    "Labeled data means that in addition to the input image and the generated output image, we have some \"true output\" image available. In our case, that means that we have some image available where we have physically removed the object that the inpainting models tries to remove. This means that we now know what the background behind the given object looks like. To evaluate perfomance, we are computing the structural similarity (SSIM) and peak signal to noise ratio (PSNR) between the generated output image and the true output image."
   ]
  },
  {
   "cell_type": "code",
   "execution_count": 93,
   "metadata": {},
   "outputs": [],
   "source": [
    "def evaluate_labeled(output_image_path, ground_truth_output_path):\n",
    "    output_image = cv2.imread(output_image_path)\n",
    "    ground_truth_image = cv2.imread(ground_truth_output_path)\n",
    "    # convert gt image to same size as output image\n",
    "    height,width,_ = output_image.shape\n",
    "    ground_truth_image = cv2.resize(ground_truth_image,(width,height))\n",
    "    # Convert images to grayscale\n",
    "    output_gray = cv2.cvtColor(output_image, cv2.COLOR_BGR2GRAY)\n",
    "    ground_truth_image_gray = cv2.cvtColor(ground_truth_image, cv2.COLOR_BGR2GRAY)\n",
    "    \n",
    "    # Calculate SSIM and PSNR\n",
    "    ssim_score = ssim(ground_truth_image_gray, output_gray)\n",
    "    psnr_score = psnr(ground_truth_image_gray, output_gray)\n",
    "    \n",
    "    return ssim_score, psnr_score\n",
    "\n",
    "def compute_mse(output_image_path, gt_image_path,mask_path):\n",
    "    output_image = Image.open(output_image_path).convert('RGB')\n",
    "    gt_image = Image.open(gt_image_path).convert('RGB')\n",
    "    mask_image = Image.open(mask_path)\n",
    "    # convert gt image to same size as output image\n",
    "    width, height = output_image.size\n",
    "    gt_image = gt_image.resize((width,height), Image.LANCZOS)\n",
    "    mask_image = mask_image.resize((width,height), Image.LANCZOS)\n",
    "\n",
    "    mask = np.array(mask_image)\n",
    "    if mask_image.mode == 'RGB':\n",
    "        mask = np.all(mask != [0, 0, 0], axis=-1)\n",
    "    elif mask_image.mode == 'RGBA':\n",
    "        mask = np.all(mask != [0, 0, 0, 0], axis=-1)\n",
    "    mask_3d = np.stack([mask] * 3, axis=-1)\n",
    "    # Compute MSE\n",
    "    \n",
    "    output_image = np.array(output_image)\n",
    "    gt_image = np.array(gt_image)\n",
    "    mse = np.mean((output_image[mask_3d] - gt_image[mask_3d]) ** 2)\n",
    "\n",
    "    return mse"
   ]
  },
  {
   "cell_type": "code",
   "execution_count": 38,
   "metadata": {},
   "outputs": [
    {
     "ename": "NameError",
     "evalue": "name 'evaluate_unlabeled' is not defined",
     "output_type": "error",
     "traceback": [
      "\u001b[0;31m---------------------------------------------------------------------------\u001b[0m",
      "\u001b[0;31mNameError\u001b[0m                                 Traceback (most recent call last)",
      "Cell \u001b[0;32mIn[38], line 6\u001b[0m\n\u001b[1;32m      3\u001b[0m output_image_path\u001b[38;5;241m=\u001b[39m\u001b[38;5;124m\"\u001b[39m\u001b[38;5;124mimages/outputs/truck_output.png\u001b[39m\u001b[38;5;124m\"\u001b[39m\n\u001b[1;32m      4\u001b[0m output_image_path2\u001b[38;5;241m=\u001b[39m\u001b[38;5;124m\"\u001b[39m\u001b[38;5;124mimages/outputs/truck_output_tight.png\u001b[39m\u001b[38;5;124m\"\u001b[39m\n\u001b[0;32m----> 6\u001b[0m hamming1 \u001b[38;5;241m=\u001b[39m \u001b[43mevaluate_unlabeled\u001b[49m(input_image_path,output_image_path)\n\u001b[1;32m      7\u001b[0m hamming2 \u001b[38;5;241m=\u001b[39m evaluate_unlabeled(input_image_path,output_image_path2)\n\u001b[1;32m      8\u001b[0m hamming3 \u001b[38;5;241m=\u001b[39m evaluate_unlabeled(input_image_path,input_image_path)\n",
      "\u001b[0;31mNameError\u001b[0m: name 'evaluate_unlabeled' is not defined"
     ]
    }
   ],
   "source": [
    "# Testing\n",
    "input_image_path=\"images/inputs/truck_input.png\"\n",
    "output_image_path=\"images/outputs/truck_output.png\"\n",
    "output_image_path2=\"images/outputs/truck_output_tight.png\"\n",
    "\n",
    "hamming1 = evaluate_unlabeled(input_image_path,output_image_path)\n",
    "hamming2 = evaluate_unlabeled(input_image_path,output_image_path2)\n",
    "hamming3 = evaluate_unlabeled(input_image_path,input_image_path)\n",
    "\n",
    "print(hamming1)\n",
    "print(hamming2)\n",
    "print(hamming3)\n",
    " "
   ]
  },
  {
   "cell_type": "code",
   "execution_count": 94,
   "metadata": {},
   "outputs": [
    {
     "name": "stdout",
     "output_type": "stream",
     "text": [
      "(484947,)\n"
     ]
    },
    {
     "data": {
      "text/plain": [
       "'case01: MSE: 91.78720561215968'"
      ]
     },
     "metadata": {},
     "output_type": "display_data"
    },
    {
     "name": "stdout",
     "output_type": "stream",
     "text": [
      "(123006,)\n"
     ]
    },
    {
     "data": {
      "text/plain": [
       "'case02: MSE: 58.860332016324406'"
      ]
     },
     "metadata": {},
     "output_type": "display_data"
    },
    {
     "name": "stdout",
     "output_type": "stream",
     "text": [
      "(72573,)\n"
     ]
    },
    {
     "data": {
      "text/plain": [
       "'case03: MSE: 102.85336144296087'"
      ]
     },
     "metadata": {},
     "output_type": "display_data"
    },
    {
     "name": "stdout",
     "output_type": "stream",
     "text": [
      "(76581,)\n"
     ]
    },
    {
     "data": {
      "text/plain": [
       "'case04: MSE: 97.3031039030569'"
      ]
     },
     "metadata": {},
     "output_type": "display_data"
    },
    {
     "name": "stdout",
     "output_type": "stream",
     "text": [
      "(105576,)\n"
     ]
    },
    {
     "data": {
      "text/plain": [
       "'case05: MSE: 98.20210085625521'"
      ]
     },
     "metadata": {},
     "output_type": "display_data"
    },
    {
     "name": "stdout",
     "output_type": "stream",
     "text": [
      "(81930,)\n"
     ]
    },
    {
     "data": {
      "text/plain": [
       "'case06: MSE: 106.25626754546565'"
      ]
     },
     "metadata": {},
     "output_type": "display_data"
    },
    {
     "name": "stdout",
     "output_type": "stream",
     "text": [
      "(222453,)\n"
     ]
    },
    {
     "data": {
      "text/plain": [
       "'case07: MSE: 102.76225539776942'"
      ]
     },
     "metadata": {},
     "output_type": "display_data"
    },
    {
     "name": "stdout",
     "output_type": "stream",
     "text": [
      "(143343,)\n"
     ]
    },
    {
     "data": {
      "text/plain": [
       "'case08: MSE: 96.4623595152885'"
      ]
     },
     "metadata": {},
     "output_type": "display_data"
    },
    {
     "name": "stdout",
     "output_type": "stream",
     "text": [
      "(82869,)\n"
     ]
    },
    {
     "data": {
      "text/plain": [
       "'case09: MSE: 102.94170317006359'"
      ]
     },
     "metadata": {},
     "output_type": "display_data"
    },
    {
     "name": "stdout",
     "output_type": "stream",
     "text": [
      "(109158,)\n"
     ]
    },
    {
     "data": {
      "text/plain": [
       "'case10: MSE: 92.83246303523333'"
      ]
     },
     "metadata": {},
     "output_type": "display_data"
    }
   ],
   "source": [
    "for case_nr in [\"case01\",\"case02\",\"case03\", \"case04\",\"case05\",\"case06\",\"case07\",\"case08\",\"case09\",\"case10\"]:\n",
    "    mask_type = \"wide\"\n",
    "    model_type=\"sd\" # sd\n",
    "\n",
    "    input_image_path = \"images/\"+case_nr+\"/\"+case_nr+\"_input.png\"\n",
    "    output_path = \"images/\"+case_nr+\"/\"+case_nr+\"_\"+mask_type+\"_\"+model_type+\"_output.jpg\"\n",
    "    ground_truth_path = \"images/\"+case_nr+\"/\"+case_nr+\"_gt.png\"\n",
    "    mask_path = \"images/\"+case_nr+\"/\"+case_nr+\"_\"+mask_type+\"_gan_mask.png\"\n",
    "\n",
    "    # ssim_score, psnr_score = evaluate_labeled(output_path,ground_truth_path)\n",
    "    # hamming= evaluate_unlabeled(input_image_path,output_path)\n",
    "    \n",
    "    # display(case_nr+\": SSIM: \"+str(ssim_score)+\", PSNR: \"+str(psnr_score)+\", Hamming: \"+str(hamming))\n",
    "    mse = compute_mse(output_path, ground_truth_path, mask_path)\n",
    "    display(case_nr+\": MSE: \"+str(mse))\n"
   ]
  }
 ],
 "metadata": {
  "kernelspec": {
   "display_name": ".venv",
   "language": "python",
   "name": "python3"
  },
  "language_info": {
   "codemirror_mode": {
    "name": "ipython",
    "version": 3
   },
   "file_extension": ".py",
   "mimetype": "text/x-python",
   "name": "python",
   "nbconvert_exporter": "python",
   "pygments_lexer": "ipython3",
   "version": "3.12.3"
  }
 },
 "nbformat": 4,
 "nbformat_minor": 2
}
