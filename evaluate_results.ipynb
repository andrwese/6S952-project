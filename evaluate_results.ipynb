{
 "cells": [
  {
   "cell_type": "markdown",
   "metadata": {},
   "source": [
    "# Code for evaluating results after running inpainting models\n",
    "The inpainting models tries to recreate the background  behind an object that we want to remove. To evaluate performance, we are using perceptual hasinh, structural similarity and peak signal noise ratio to compute how \"realistic\" the output image is. If the model is able to recreate the background in a very realistic way, it should score well in these metrics.\n",
    "Note that there are two ways of evaluating performance here: \n",
    "* For unlabeled data we are using perceptual hashing and hamming distance to compute how realistic the output image is compared to the input image\n",
    "* For labeled data we are using structural similarity and peak SNR to compare the output image to the \"true output\"."
   ]
  },
  {
   "cell_type": "code",
   "execution_count": 2,
   "metadata": {},
   "outputs": [],
   "source": [
    "import cv2\n",
    "import numpy as np\n",
    "from skimage.metrics import structural_similarity as ssim\n",
    "from skimage.metrics import peak_signal_noise_ratio as psnr\n",
    "import imagehash\n",
    "from PIL import Image\n"
   ]
  },
  {
   "cell_type": "markdown",
   "metadata": {},
   "source": [
    "## Evaluating performance on unlabeled data\n",
    "Unlabeled data means that the only images we have available is the input image (where some object is present), and the output image (where the inpainting model has tried to recreate the background behind the object). We have no knowledge of what the \"true background\" behind the object is. Therefore, we are evaluating performance through perceptual hashing. Perceptual hashing provides a fingerprint of the image content, and a smaller hamming distance between hashes of the input and output image indicates higher realism in the generated output image."
   ]
  },
  {
   "cell_type": "code",
   "execution_count": 3,
   "metadata": {},
   "outputs": [],
   "source": [
    "# Performance on unlabeled data is evaluated by comparing similarity between perceptual\n",
    "# hashes of the input and output images. Perceptual hashes provide a fingerprint of the image \n",
    "# content, and a smaller Hamming distance between the hashes of the input and output images indicates higher realism.\n",
    "def perceptual_hash(image):\n",
    "    return imagehash.average_hash(Image.fromarray(cv2.cvtColor(image, cv2.COLOR_BGR2RGB)))\n",
    "\n",
    "def evaluate_unlabeled(input_image_path, output_image_path):\n",
    "    # Load images\n",
    "    input_image = cv2.imread(input_image_path)\n",
    "    output_image = cv2.imread(output_image_path)\n",
    "\n",
    "    # Calculate perceptual hashes\n",
    "    input_hash = perceptual_hash(input_image)\n",
    "    output_hash = perceptual_hash(output_image)\n",
    "    \n",
    "    # Calculate Hamming distance\n",
    "    hamming_distance = input_hash - output_hash  # Lower values indicate higher similarity\n",
    "    \n",
    "    return hamming_distance\n",
    "\n"
   ]
  },
  {
   "cell_type": "markdown",
   "metadata": {},
   "source": [
    "## Evaluating performance on labeled data\n",
    "Labeled data means that in addition to the input image and the generated output image, we have some \"true output\" image available. In our case, that means that we have some image available where we have physically removed the object that the inpainting models tries to remove. This means that we now know what the background behind the given object looks like. To evaluate perfomance, we are computing the structural similarity (SSIM) and peak signal to noise ratio (PSNR) between the generated output image and the true output image."
   ]
  },
  {
   "cell_type": "code",
   "execution_count": 21,
   "metadata": {},
   "outputs": [
    {
     "data": {
      "text/plain": [
       "(0.6646195563377616, 15.837987954673808)"
      ]
     },
     "execution_count": 21,
     "metadata": {},
     "output_type": "execute_result"
    }
   ],
   "source": [
    "def evaluate_labeled(output_image_path, ground_truth_output_path):\n",
    "    output_image = cv2.imread(output_image_path)\n",
    "    ground_truth_image = cv2.imread(ground_truth_output_path)\n",
    "    # convert gt image to same size as output image\n",
    "    height,width,_ = output_image.shape\n",
    "    ground_truth_image = cv2.resize(ground_truth_image,(width,height))\n",
    "    # Convert images to grayscale\n",
    "    output_gray = cv2.cvtColor(output_image, cv2.COLOR_BGR2GRAY)\n",
    "    ground_truth_image_gray = cv2.cvtColor(ground_truth_image, cv2.COLOR_BGR2GRAY)\n",
    "    \n",
    "    # Calculate SSIM and PSNR\n",
    "    ssim_score = ssim(ground_truth_image_gray, output_gray)\n",
    "    psnr_score = psnr(ground_truth_image_gray, output_gray)\n",
    "    \n",
    "    return ssim_score, psnr_score"
   ]
  },
  {
   "cell_type": "code",
   "execution_count": 5,
   "metadata": {},
   "outputs": [
    {
     "name": "stderr",
     "output_type": "stream",
     "text": [
      "[ WARN:0@5.369] global loadsave.cpp:248 findDecoder imread_('images/inputs/truck_input.png'): can't open/read file: check file path/integrity\n",
      "[ WARN:0@5.372] global loadsave.cpp:248 findDecoder imread_('images/outputs/truck_output.png'): can't open/read file: check file path/integrity\n"
     ]
    },
    {
     "ename": "error",
     "evalue": "OpenCV(4.9.0) /Users/runner/work/opencv-python/opencv-python/opencv/modules/imgproc/src/color.cpp:196: error: (-215:Assertion failed) !_src.empty() in function 'cvtColor'\n",
     "output_type": "error",
     "traceback": [
      "\u001b[0;31m---------------------------------------------------------------------------\u001b[0m",
      "\u001b[0;31merror\u001b[0m                                     Traceback (most recent call last)",
      "Cell \u001b[0;32mIn[5], line 6\u001b[0m\n\u001b[1;32m      3\u001b[0m output_image_path\u001b[38;5;241m=\u001b[39m\u001b[38;5;124m\"\u001b[39m\u001b[38;5;124mimages/outputs/truck_output.png\u001b[39m\u001b[38;5;124m\"\u001b[39m\n\u001b[1;32m      4\u001b[0m output_image_path2\u001b[38;5;241m=\u001b[39m\u001b[38;5;124m\"\u001b[39m\u001b[38;5;124mimages/outputs/truck_output_tight.png\u001b[39m\u001b[38;5;124m\"\u001b[39m\n\u001b[0;32m----> 6\u001b[0m hamming1 \u001b[38;5;241m=\u001b[39m \u001b[43mevaluate_unlabeled\u001b[49m\u001b[43m(\u001b[49m\u001b[43minput_image_path\u001b[49m\u001b[43m,\u001b[49m\u001b[43moutput_image_path\u001b[49m\u001b[43m)\u001b[49m\n\u001b[1;32m      7\u001b[0m hamming2 \u001b[38;5;241m=\u001b[39m evaluate_unlabeled(input_image_path,output_image_path2)\n\u001b[1;32m      8\u001b[0m hamming3 \u001b[38;5;241m=\u001b[39m evaluate_unlabeled(input_image_path,input_image_path)\n",
      "Cell \u001b[0;32mIn[3], line 13\u001b[0m, in \u001b[0;36mevaluate_unlabeled\u001b[0;34m(input_image_path, output_image_path)\u001b[0m\n\u001b[1;32m     10\u001b[0m output_image \u001b[38;5;241m=\u001b[39m cv2\u001b[38;5;241m.\u001b[39mimread(output_image_path)\n\u001b[1;32m     12\u001b[0m \u001b[38;5;66;03m# Calculate perceptual hashes\u001b[39;00m\n\u001b[0;32m---> 13\u001b[0m input_hash \u001b[38;5;241m=\u001b[39m \u001b[43mperceptual_hash\u001b[49m\u001b[43m(\u001b[49m\u001b[43minput_image\u001b[49m\u001b[43m)\u001b[49m\n\u001b[1;32m     14\u001b[0m output_hash \u001b[38;5;241m=\u001b[39m perceptual_hash(output_image)\n\u001b[1;32m     16\u001b[0m \u001b[38;5;66;03m# Calculate Hamming distance\u001b[39;00m\n",
      "Cell \u001b[0;32mIn[3], line 5\u001b[0m, in \u001b[0;36mperceptual_hash\u001b[0;34m(image)\u001b[0m\n\u001b[1;32m      4\u001b[0m \u001b[38;5;28;01mdef\u001b[39;00m \u001b[38;5;21mperceptual_hash\u001b[39m(image):\n\u001b[0;32m----> 5\u001b[0m     \u001b[38;5;28;01mreturn\u001b[39;00m imagehash\u001b[38;5;241m.\u001b[39maverage_hash(Image\u001b[38;5;241m.\u001b[39mfromarray(\u001b[43mcv2\u001b[49m\u001b[38;5;241;43m.\u001b[39;49m\u001b[43mcvtColor\u001b[49m\u001b[43m(\u001b[49m\u001b[43mimage\u001b[49m\u001b[43m,\u001b[49m\u001b[43m \u001b[49m\u001b[43mcv2\u001b[49m\u001b[38;5;241;43m.\u001b[39;49m\u001b[43mCOLOR_BGR2RGB\u001b[49m\u001b[43m)\u001b[49m))\n",
      "\u001b[0;31merror\u001b[0m: OpenCV(4.9.0) /Users/runner/work/opencv-python/opencv-python/opencv/modules/imgproc/src/color.cpp:196: error: (-215:Assertion failed) !_src.empty() in function 'cvtColor'\n"
     ]
    }
   ],
   "source": [
    "# Testing\n",
    "input_image_path=\"images/inputs/truck_input.png\"\n",
    "output_image_path=\"images/outputs/truck_output.png\"\n",
    "output_image_path2=\"images/outputs/truck_output_tight.png\"\n",
    "\n",
    "hamming1 = evaluate_unlabeled(input_image_path,output_image_path)\n",
    "hamming2 = evaluate_unlabeled(input_image_path,output_image_path2)\n",
    "hamming3 = evaluate_unlabeled(input_image_path,input_image_path)\n",
    "\n",
    "print(hamming1)\n",
    "print(hamming2)\n",
    "print(hamming3)\n",
    " "
   ]
  },
  {
   "cell_type": "code",
   "execution_count": 22,
   "metadata": {},
   "outputs": [
    {
     "data": {
      "text/plain": [
       "'case01: SSIM: 0.6646195563377616, PSNR: 15.837987954673808, Hamming: 17'"
      ]
     },
     "metadata": {},
     "output_type": "display_data"
    },
    {
     "data": {
      "text/plain": [
       "'case02: SSIM: 0.7380087777166406, PSNR: 22.400701123533103, Hamming: 5'"
      ]
     },
     "metadata": {},
     "output_type": "display_data"
    },
    {
     "data": {
      "text/plain": [
       "'case03: SSIM: 0.15515740113723434, PSNR: 13.79805172748455, Hamming: 1'"
      ]
     },
     "metadata": {},
     "output_type": "display_data"
    },
    {
     "data": {
      "text/plain": [
       "'case04: SSIM: 0.1573119192987829, PSNR: 14.670278410678685, Hamming: 0'"
      ]
     },
     "metadata": {},
     "output_type": "display_data"
    },
    {
     "data": {
      "text/plain": [
       "'case05: SSIM: 0.6217546980858902, PSNR: 20.447732670759624, Hamming: 0'"
      ]
     },
     "metadata": {},
     "output_type": "display_data"
    },
    {
     "data": {
      "text/plain": [
       "'case06: SSIM: 0.0940006028117358, PSNR: 12.04927569723264, Hamming: 1'"
      ]
     },
     "metadata": {},
     "output_type": "display_data"
    },
    {
     "data": {
      "text/plain": [
       "'case07: SSIM: 0.07409501567867428, PSNR: 14.016502333435543, Hamming: 7'"
      ]
     },
     "metadata": {},
     "output_type": "display_data"
    },
    {
     "data": {
      "text/plain": [
       "'case08: SSIM: 0.18542113017270587, PSNR: 17.77685352620352, Hamming: 2'"
      ]
     },
     "metadata": {},
     "output_type": "display_data"
    },
    {
     "data": {
      "text/plain": [
       "'case09: SSIM: 0.11483981087364134, PSNR: 15.0107218100101, Hamming: 1'"
      ]
     },
     "metadata": {},
     "output_type": "display_data"
    },
    {
     "data": {
      "text/plain": [
       "'case10: SSIM: 0.1507485196718003, PSNR: 15.561573269140467, Hamming: 1'"
      ]
     },
     "metadata": {},
     "output_type": "display_data"
    }
   ],
   "source": [
    "for case_nr in [\"case01\",\"case02\",\"case03\", \"case04\",\"case05\",\"case06\",\"case07\",\"case08\",\"case09\",\"case10\"]:\n",
    "    mask_type = \"wide\"\n",
    "    model_type=\"gan\"\n",
    "\n",
    "    input_image_path = \"images/\"+case_nr+\"/\"+case_nr+\"_input.png\"\n",
    "    output_path = \"images/\"+case_nr+\"/\"+case_nr+\"_\"+mask_type+\"_\"+model_type+\"_output.png\"\n",
    "    ground_truth_path = \"images/\"+case_nr+\"/\"+case_nr+\"_gt.png\"\n",
    "\n",
    "    ssim_score, psnr_score = evaluate_labeled(output_path,ground_truth_path)\n",
    "    hamming= evaluate_unlabeled(input_image_path,output_path)\n",
    "    \n",
    "    display(case_nr+\": SSIM: \"+str(ssim_score)+\", PSNR: \"+str(psnr_score)+\", Hamming: \"+str(hamming))"
   ]
  }
 ],
 "metadata": {
  "kernelspec": {
   "display_name": ".venv",
   "language": "python",
   "name": "python3"
  },
  "language_info": {
   "codemirror_mode": {
    "name": "ipython",
    "version": 3
   },
   "file_extension": ".py",
   "mimetype": "text/x-python",
   "name": "python",
   "nbconvert_exporter": "python",
   "pygments_lexer": "ipython3",
   "version": "3.11.9"
  }
 },
 "nbformat": 4,
 "nbformat_minor": 2
}
